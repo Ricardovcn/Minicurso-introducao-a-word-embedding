{
 "cells": [
  {
   "cell_type": "markdown",
   "metadata": {},
   "source": [
    "# Instituto Federal do Sudeste de Minas Gerais, Campus Barbacena\n",
    "\n",
    "# Minicurso: Introdução a word embeddings\n"
   ]
  },
  {
   "cell_type": "markdown",
   "metadata": {},
   "source": [
    "## 1. Escolha de um dataset\n",
    "\n",
    "\n",
    "### 1.1 Modelo pronto x Modelo Próprio\n",
    "\n",
    "Um dos modelos pré-treinados mais conhecidos foi o modelo treinado pela equipe do google, que utilizou 300 milhoes de sentenças e um vocabulario de 100 bilhões de palavras. Apesar de ser um modelo com otimos resultados, não pode ser aplicado a toda e qualquer solução. Quando se pretende trabalhar com um contexto específico, é mais interessante treinar o proprio modelo utilizando um dataset especifico para esse contexto.\n",
    "\n",
    "\n",
    "### 1.2 Criar seu Dataset x Usar Dataset Pronto\n",
    "\n",
    "Existe uma variedade de datasets prontos disponíveis para uso, mas você tamém pode criar o seu próprio dataset, utilizando web scraping ou acessando alguma API.\n",
    "\n",
    "\n",
    "Alguns exemplos de datasets podem ser encotrados acessando o seguinte link:\n",
    "https://www.kaggle.com/datasets\n",
    "\n",
    "\n",
    "\n"
   ]
  },
  {
   "cell_type": "markdown",
   "metadata": {},
   "source": [
    "## 2. Pré-processamento de textos\n",
    "Essencial no processamento de linguagem natural. Consiste em prepara e/ou limpar o texto que ele possa ser , de fato, processado por um computador."
   ]
  },
  {
   "cell_type": "code",
   "execution_count": 1,
   "metadata": {},
   "outputs": [
    {
     "data": {
      "text/html": [
       "<div>\n",
       "<style scoped>\n",
       "    .dataframe tbody tr th:only-of-type {\n",
       "        vertical-align: middle;\n",
       "    }\n",
       "\n",
       "    .dataframe tbody tr th {\n",
       "        vertical-align: top;\n",
       "    }\n",
       "\n",
       "    .dataframe thead th {\n",
       "        text-align: right;\n",
       "    }\n",
       "</style>\n",
       "<table border=\"1\" class=\"dataframe\">\n",
       "  <thead>\n",
       "    <tr style=\"text-align: right;\">\n",
       "      <th></th>\n",
       "      <th>frase</th>\n",
       "    </tr>\n",
       "  </thead>\n",
       "  <tbody>\n",
       "    <tr>\n",
       "      <th>0</th>\n",
       "      <td>King is a strong man!</td>\n",
       "    </tr>\n",
       "    <tr>\n",
       "      <th>1</th>\n",
       "      <td>Queen is a wise woman!</td>\n",
       "    </tr>\n",
       "    <tr>\n",
       "      <th>2</th>\n",
       "      <td>Is this man strong?</td>\n",
       "    </tr>\n",
       "    <tr>\n",
       "      <th>3</th>\n",
       "      <td>Is this Woman pretty?</td>\n",
       "    </tr>\n",
       "    <tr>\n",
       "      <th>4</th>\n",
       "      <td>Prince is a boy that will be King.</td>\n",
       "    </tr>\n",
       "  </tbody>\n",
       "</table>\n",
       "</div>"
      ],
      "text/plain": [
       "                                frase\n",
       "0               King is a strong man!\n",
       "1              Queen is a wise woman!\n",
       "2                 Is this man strong?\n",
       "3               Is this Woman pretty?\n",
       "4  Prince is a boy that will be King."
      ]
     },
     "execution_count": 1,
     "metadata": {},
     "output_type": "execute_result"
    }
   ],
   "source": [
    "# Usaremos um data set simples com algumas frases para as primeiras etapas do curso\n",
    "sentencas =  ['King is a strong man!', \n",
    "          'Queen is a wise woman!', \n",
    "          'Is this man strong?', \n",
    "          'Is this Woman pretty?',\n",
    "          'Prince is a boy that will be King.',\n",
    "          'Princess is a girl that will be Queen.']\n",
    "\n",
    "import pandas as pd\n",
    "#Transformando a lista em um dataframe pandas\n",
    "df = pd.DataFrame(sentencas)\n",
    "\n",
    "#Alterando o nome da coluna do dataframe\n",
    "df.columns = ['frase']\n",
    "\n",
    "#Exibindo as primeiras linhas do dataframe, é possível alterar o numero de linhas exibido passando um valor como parâmetro para a função head\n",
    "df.head()"
   ]
  },
  {
   "cell_type": "markdown",
   "metadata": {},
   "source": [
    "### 2.1 Conversão para minúsculas\n"
   ]
  },
  {
   "cell_type": "code",
   "execution_count": 2,
   "metadata": {},
   "outputs": [
    {
     "data": {
      "text/plain": [
       "'king is a strong man!'"
      ]
     },
     "execution_count": 2,
     "metadata": {},
     "output_type": "execute_result"
    }
   ],
   "source": [
    "df['frase'][0].lower()"
   ]
  },
  {
   "cell_type": "markdown",
   "metadata": {},
   "source": [
    "### 2.2 Removendo pontuação e caracteres especiais"
   ]
  },
  {
   "cell_type": "code",
   "execution_count": 3,
   "metadata": {},
   "outputs": [
    {
     "data": {
      "text/plain": [
       "'!\"#$%&\\'()*+,-./:;<=>?@[\\\\]^_`{|}~'"
      ]
     },
     "execution_count": 3,
     "metadata": {},
     "output_type": "execute_result"
    }
   ],
   "source": [
    "from string import punctuation\n",
    "punctuation"
   ]
  },
  {
   "cell_type": "code",
   "execution_count": 4,
   "metadata": {},
   "outputs": [
    {
     "data": {
      "text/plain": [
       "['!',\n",
       " '\"',\n",
       " '#',\n",
       " '$',\n",
       " '%',\n",
       " '&',\n",
       " \"'\",\n",
       " '(',\n",
       " ')',\n",
       " '*',\n",
       " '+',\n",
       " ',',\n",
       " '-',\n",
       " '.',\n",
       " '/',\n",
       " ':',\n",
       " ';',\n",
       " '<',\n",
       " '=',\n",
       " '>',\n",
       " '?',\n",
       " '@',\n",
       " '[',\n",
       " '\\\\',\n",
       " ']',\n",
       " '^',\n",
       " '_',\n",
       " '`',\n",
       " '{',\n",
       " '|',\n",
       " '}',\n",
       " '~',\n",
       " '\"',\n",
       " \"'\",\n",
       " '``',\n",
       " '`',\n",
       " '\\n',\n",
       " '\\t']"
      ]
     },
     "execution_count": 4,
     "metadata": {},
     "output_type": "execute_result"
    }
   ],
   "source": [
    "# Transformando uma string em uma lista\n",
    "pontuacao = list(punctuation)\n",
    "\n",
    "# Adicionando alguns caracteres que percebi ser necessários ao lidar com outros datasets passados\n",
    "pontuacao.append('\\\"')\n",
    "pontuacao.append('\\'')\n",
    "pontuacao.append('``')\n",
    "pontuacao.append('`')\n",
    "pontuacao.append('\\n')\n",
    "pontuacao.append('\\t')\n",
    "pontuacao"
   ]
  },
  {
   "cell_type": "code",
   "execution_count": 5,
   "metadata": {},
   "outputs": [
    {
     "data": {
      "text/plain": [
       "'King is a strong man'"
      ]
     },
     "execution_count": 5,
     "metadata": {},
     "output_type": "execute_result"
    }
   ],
   "source": [
    "''.join([l for l in df['frase'][0] if l not in punctuation])"
   ]
  },
  {
   "cell_type": "markdown",
   "metadata": {},
   "source": [
    "### 2.3 Usando expressão regular pra remover numeros"
   ]
  },
  {
   "cell_type": "code",
   "execution_count": 6,
   "metadata": {},
   "outputs": [
    {
     "data": {
      "text/plain": [
       "'A volta dos que não foram - O retorno'"
      ]
     },
     "execution_count": 6,
     "metadata": {},
     "output_type": "execute_result"
    }
   ],
   "source": [
    "# Substituição de numeros com expressões regulares\n",
    "exemplo = 'A volta dos que não foram 2 - O retorno'\n",
    "import re\n",
    "' '.join([l for l in exemplo.split() if not re.search('^\\d', l)]) "
   ]
  },
  {
   "cell_type": "markdown",
   "metadata": {},
   "source": [
    "### 2.4 Removendo acentuação"
   ]
  },
  {
   "cell_type": "code",
   "execution_count": 7,
   "metadata": {},
   "outputs": [
    {
     "data": {
      "text/plain": [
       "'A volta dos que nao foram 2 - O retorno'"
      ]
     },
     "execution_count": 7,
     "metadata": {},
     "output_type": "execute_result"
    }
   ],
   "source": [
    "from unidecode import unidecode\n",
    "# Removendo a acentuação de palavras\n",
    "unidecode( exemplo )"
   ]
  },
  {
   "cell_type": "markdown",
   "metadata": {},
   "source": [
    "### 2.5 Removendo stopwords\n",
    "\n",
    "Stopwords são palavras que podem ser consideradas irrelevantes para o conjunto de resultados a ser exibido em uma busca realizada em uma search engine.\n",
    "\n",
    "Vão existir casos onde palavras que não são stopwords em um contexto geral, serão consideradas stopwords em um contexto específico."
   ]
  },
  {
   "cell_type": "code",
   "execution_count": 8,
   "metadata": {},
   "outputs": [
    {
     "data": {
      "text/plain": [
       "['de', 'a', 'o', 'que', 'e', 'do', 'da', 'em', 'um', 'para']"
      ]
     },
     "execution_count": 8,
     "metadata": {},
     "output_type": "execute_result"
    }
   ],
   "source": [
    "import nltk\n",
    "# Stopwords em português\n",
    "stopwords = nltk.corpus.stopwords.words('portuguese')\n",
    "stopwords[0:10]"
   ]
  },
  {
   "cell_type": "code",
   "execution_count": 9,
   "metadata": {},
   "outputs": [
    {
     "data": {
      "text/plain": [
       "['i', 'me', 'my', 'myself', 'we', 'our', 'ours', 'ourselves', 'you', \"you're\"]"
      ]
     },
     "execution_count": 9,
     "metadata": {},
     "output_type": "execute_result"
    }
   ],
   "source": [
    "# Stopwords em inglês\n",
    "stopwords = nltk.corpus.stopwords.words('english')\n",
    "stopwords[0:10]"
   ]
  },
  {
   "cell_type": "markdown",
   "metadata": {},
   "source": [
    "### 2.6 Stemming\n",
    "Redução de termos ao radical. Util em alguns casos mas deve ser usado com cautela."
   ]
  },
  {
   "cell_type": "code",
   "execution_count": 10,
   "metadata": {},
   "outputs": [
    {
     "data": {
      "text/plain": [
       "'arabic danish dutch english finnish french german hungarian italian norwegian porter portuguese romanian russian spanish swedish'"
      ]
     },
     "execution_count": 10,
     "metadata": {},
     "output_type": "execute_result"
    }
   ],
   "source": [
    "# Versão aprimorada do algoritmo de Porter\n",
    "from nltk.stem import SnowballStemmer\n",
    "\n",
    "# Lista de linguagens possíveis\n",
    "\" \".join(SnowballStemmer.languages)"
   ]
  },
  {
   "cell_type": "code",
   "execution_count": 11,
   "metadata": {},
   "outputs": [
    {
     "name": "stdout",
     "output_type": "stream",
     "text": [
      "program program program program\n"
     ]
    }
   ],
   "source": [
    "# Exemplo de Stemming aplicado ao português\n",
    "stemmer = SnowballStemmer(\"portuguese\")\n",
    "print(stemmer.stem(\"programa\"), stemmer.stem(\"programar\"), stemmer.stem(\"programando\"), stemmer.stem(\"programava\"))"
   ]
  },
  {
   "cell_type": "code",
   "execution_count": 12,
   "metadata": {},
   "outputs": [
    {
     "name": "stdout",
     "output_type": "stream",
     "text": [
      "consign consign consign consign\n"
     ]
    }
   ],
   "source": [
    "# Exemplo de Stemming aplicado ao inglês\n",
    "stemmer = SnowballStemmer(\"english\")\n",
    "print(stemmer.stem(\"consign\"), stemmer.stem(\"consigned\"), stemmer.stem(\"consigning\"), stemmer.stem(\"consignment\"))"
   ]
  },
  {
   "cell_type": "code",
   "execution_count": 13,
   "metadata": {},
   "outputs": [
    {
     "name": "stdout",
     "output_type": "stream",
     "text": [
      "import import\n"
     ]
    }
   ],
   "source": [
    "# Exemplo de problema que pode ser encontrado ao usar stemming\n",
    "# 2 palavras com significados diferentes que após o stemming passam a ter o mesmo significado.\n",
    "stemmer = SnowballStemmer(\"english\")\n",
    "print(stemmer.stem(\"import\"), stemmer.stem(\"important\"))"
   ]
  },
  {
   "cell_type": "markdown",
   "metadata": {},
   "source": [
    "### Vale ressaltar que não utilizaremos todas as técnicas em qualquer caso. Cada dataset e cada aplicação tem suas peculiaridades e essas devem ser observadas antes da escolha das técnicas."
   ]
  },
  {
   "cell_type": "markdown",
   "metadata": {},
   "source": [
    "### 2.7 Gerando um Corpus\n"
   ]
  },
  {
   "cell_type": "code",
   "execution_count": 14,
   "metadata": {},
   "outputs": [],
   "source": [
    "from nltk import word_tokenize\n",
    "# Função que recebe uma string e retorna a mesma processada\n",
    "def processa(txt):\n",
    "    return ' '.join([t for t in word_tokenize(txt.lower()) if (len(t)>2) if not re.search('^\\d', t) and (t not in stopwords) and (t not in pontuacao)])"
   ]
  },
  {
   "cell_type": "code",
   "execution_count": 15,
   "metadata": {},
   "outputs": [],
   "source": [
    "corpus = []\n",
    "for i in df.iterrows():\n",
    "    corpus.append(processa(i[1]['frase']).split())"
   ]
  },
  {
   "cell_type": "code",
   "execution_count": 16,
   "metadata": {},
   "outputs": [
    {
     "data": {
      "text/plain": [
       "[['king', 'strong', 'man'],\n",
       " ['queen', 'wise', 'woman'],\n",
       " ['man', 'strong'],\n",
       " ['woman', 'pretty'],\n",
       " ['prince', 'boy', 'king'],\n",
       " ['princess', 'girl', 'queen']]"
      ]
     },
     "execution_count": 16,
     "metadata": {},
     "output_type": "execute_result"
    }
   ],
   "source": [
    "corpus"
   ]
  },
  {
   "cell_type": "markdown",
   "metadata": {},
   "source": [
    "## 3. Word2Vec\n",
    "\n",
    "Word2vec é um par de modelos de aprendizado não supervisionado para criação de uma representação vetorial de palavras presentes em textos que usam linguagem natural.\n",
    "\n",
    "Vale ressaltar que existem outros modelos de word embedding a ser estudados, entre os mais conhecidos estão o GloVe e o fasttext do facebook.\n",
    "\n",
    "\n",
    "### 3.1 Parâmetros\n",
    "\n",
    "**size:** A dimensionalidade dos vetores densos utilizados para representar cada token ou palavra. \n",
    "\n",
    "**window:** A distância maxima entre uma determinada palavra ( target) e palavras vizinhas que serão consideradas para contruir o contexto da palavra target. Quando essa distancia é menor o conceito ligado a uma pelavra é mais específico e quando é maior, o conceito tende a ser mais genérico.\n",
    "\n",
    "**min_count:** Ignora palavras com a frequencia total inferior ao valor estipulado por esse parâmetro. O valor padrão desse parâmetro é 5, ou seja, palavras que se repetem menos de 5 vezes não serão adicionados ao vocabulário do modelo.\n",
    "\n",
    "**sg:** Define o algoritmo que será utilizado para treinamento ( 0 para CBOW e 1 para Skip-Gram).\n",
    "\n",
    "**workers:** Numero de threads que serça usadas pra treinar, diretamente ligado ao desempenho.\n",
    "\n",
    "**iter:** Numero de iterações sobre o corpus.\n",
    "\n",
    "\n",
    "Link explicando cada parâmetro: https://radimrehurek.com/gensim/models/word2vec.html\n"
   ]
  },
  {
   "cell_type": "markdown",
   "metadata": {},
   "source": [
    "### 3.2 Criando o modelo e o vocabulário\n"
   ]
  },
  {
   "cell_type": "code",
   "execution_count": 50,
   "metadata": {},
   "outputs": [],
   "source": [
    "from gensim.models import Word2Vec\n",
    "import numpy as np\n",
    "np.random.seed(0)\n",
    "os.\n",
    "# Definição dos parâmetros e criação do modelo\n",
    "modelo = Word2Vec(corpus, size=20, window=2,  min_count=0 ,workers=1, sg=1, iter=100)"
   ]
  },
  {
   "cell_type": "code",
   "execution_count": 51,
   "metadata": {},
   "outputs": [
    {
     "data": {
      "text/plain": [
       "{'king': <gensim.models.keyedvectors.Vocab at 0x7f61109687f0>,\n",
       " 'strong': <gensim.models.keyedvectors.Vocab at 0x7f61109686a0>,\n",
       " 'man': <gensim.models.keyedvectors.Vocab at 0x7f61109686d8>,\n",
       " 'queen': <gensim.models.keyedvectors.Vocab at 0x7f6110968748>,\n",
       " 'wise': <gensim.models.keyedvectors.Vocab at 0x7f6110968710>,\n",
       " 'woman': <gensim.models.keyedvectors.Vocab at 0x7f61109685c0>,\n",
       " 'pretty': <gensim.models.keyedvectors.Vocab at 0x7f61109685f8>,\n",
       " 'prince': <gensim.models.keyedvectors.Vocab at 0x7f6110968668>,\n",
       " 'boy': <gensim.models.keyedvectors.Vocab at 0x7f6110968630>,\n",
       " 'princess': <gensim.models.keyedvectors.Vocab at 0x7f61109684e0>,\n",
       " 'girl': <gensim.models.keyedvectors.Vocab at 0x7f6110968518>}"
      ]
     },
     "execution_count": 51,
     "metadata": {},
     "output_type": "execute_result"
    }
   ],
   "source": [
    "# Nessa etapa o vocabulário do modelo ja foi criado e um vetor ja foi definido para cada palavra.\n",
    "modelo.wv.vocab"
   ]
  },
  {
   "cell_type": "code",
   "execution_count": 52,
   "metadata": {},
   "outputs": [
    {
     "data": {
      "text/plain": [
       "array([-0.02301328,  0.00496967,  0.01754328, -0.00665839,  0.02450039,\n",
       "       -0.0167828 , -0.01081421, -0.01123193,  0.01645829,  0.01581936,\n",
       "        0.02091113, -0.00755061, -0.00068808, -0.00151947,  0.02199668,\n",
       "       -0.01702223,  0.00382574,  0.00458455,  0.00337589, -0.00897763],\n",
       "      dtype=float32)"
      ]
     },
     "execution_count": 52,
     "metadata": {},
     "output_type": "execute_result"
    }
   ],
   "source": [
    "# Exemplo de vetor que representa uma palavra\n",
    "modelo.wv['king']"
   ]
  },
  {
   "cell_type": "code",
   "execution_count": 53,
   "metadata": {},
   "outputs": [
    {
     "data": {
      "text/plain": [
       "20"
      ]
     },
     "execution_count": 53,
     "metadata": {},
     "output_type": "execute_result"
    }
   ],
   "source": [
    "# Exemplo de vetor que representa uma palavra\n",
    "len(modelo.wv['king'])"
   ]
  },
  {
   "cell_type": "markdown",
   "metadata": {},
   "source": [
    "### 3.3 Treinando o modelo"
   ]
  },
  {
   "cell_type": "code",
   "execution_count": 54,
   "metadata": {},
   "outputs": [
    {
     "data": {
      "text/plain": [
       "(191, 1600)"
      ]
     },
     "execution_count": 54,
     "metadata": {},
     "output_type": "execute_result"
    }
   ],
   "source": [
    "modelo.train(corpus, total_examples=len(corpus), epochs=100)"
   ]
  },
  {
   "cell_type": "markdown",
   "metadata": {},
   "source": [
    "### 3.4 Plotando um gráfico de distribuição"
   ]
  },
  {
   "cell_type": "code",
   "execution_count": 55,
   "metadata": {},
   "outputs": [],
   "source": [
    "#funçao pra plotar um grafico de dispersão das palavras\n",
    "def plota_grafico(modelo):\n",
    "    from sklearn.decomposition import PCA\n",
    "    from matplotlib import pyplot\n",
    "    # fit a 2d PCA model to the vectors\n",
    "    X = modelo[modelo.wv.vocab]\n",
    "    pca = PCA(n_components=2)\n",
    "    result = pca.fit_transform(X)\n",
    "    # create a scatter plot of the projection\n",
    "    pyplot.scatter(result[:, 0], result[:, 1])\n",
    "    words = list(modelo.wv.vocab)\n",
    "    for i, word in enumerate(words):\n",
    "        pyplot.annotate(word, xy=(result[i, 0], result[i, 1]))\n",
    "    pyplot.show()"
   ]
  },
  {
   "cell_type": "code",
   "execution_count": 56,
   "metadata": {},
   "outputs": [
    {
     "data": {
      "image/png": "[encoded data removed]",
      "text/plain": [
       "<Figure size 432x288 with 1 Axes>"
      ]
     },
     "metadata": {
      "needs_background": "light"
     },
     "output_type": "display_data"
    }
   ],
   "source": [
    "plota_grafico(modelo)"
   ]
  },
  {
   "cell_type": "markdown",
   "metadata": {},
   "source": [
    "### 3.5 Salvando o modelo\n",
    "\n",
    "O ideal é salvar o modelo assim que terminar de treinar, e depois carregar apenas os vetores, poupando memoria RAM e ganhando desempenho."
   ]
  },
  {
   "cell_type": "code",
   "execution_count": 57,
   "metadata": {},
   "outputs": [],
   "source": [
    "#salvando o modelo no diretorio corrente\n",
    "modelo.save('./modelo_teste')"
   ]
  },
  {
   "cell_type": "markdown",
   "metadata": {},
   "source": [
    "### 3.6 Carregando modelos\n",
    "\n",
    "Na maioria das aplicações que utilizam o word2vec, são usados modelos prontos e pré-treinados. Porém, esses modelos não se aplicam a toda e qualquer aplicação visto que a aplicação pode ser voltada para um contexto específico."
   ]
  },
  {
   "cell_type": "code",
   "execution_count": 58,
   "metadata": {},
   "outputs": [],
   "source": [
    "from gensim.models import KeyedVectors\n",
    "import warnings\n",
    "warnings.filterwarnings('ignore')\n",
    "\n",
    "#Carrregando os vetores\n",
    "word_vectors = KeyedVectors.load('./modelo_teste', mmap='r')"
   ]
  },
  {
   "cell_type": "markdown",
   "metadata": {},
   "source": [
    "### 3.7 Testes"
   ]
  },
  {
   "cell_type": "markdown",
   "metadata": {},
   "source": [
    "### 3.7.1 Mais similares"
   ]
  },
  {
   "cell_type": "code",
   "execution_count": 59,
   "metadata": {},
   "outputs": [
    {
     "data": {
      "text/plain": [
       "1.0"
      ]
     },
     "execution_count": 59,
     "metadata": {},
     "output_type": "execute_result"
    }
   ],
   "source": [
    "# A similaridade é um valor entre 0 e 1, pois é calculada usando o coseno da distância entre 2 palavras.\n",
    "# Palavras iguais, estão no mesmo lugar dentro do espaço vetorial, portanto a distancia entre elas é 0 e o coseno de 0 é 1.\n",
    "word_vectors.similarity(w1='man', w2='man')"
   ]
  },
  {
   "cell_type": "code",
   "execution_count": 60,
   "metadata": {},
   "outputs": [
    {
     "data": {
      "text/plain": [
       "[('strong', 0.3469914197921753)]"
      ]
     },
     "execution_count": 60,
     "metadata": {},
     "output_type": "execute_result"
    }
   ],
   "source": [
    "# Busca a palavra\n",
    "word_vectors.most_similar(positive=['prince'], topn=1)"
   ]
  },
  {
   "cell_type": "code",
   "execution_count": 61,
   "metadata": {},
   "outputs": [
    {
     "data": {
      "text/plain": [
       "[('girl', 0.2629024088382721)]"
      ]
     },
     "execution_count": 61,
     "metadata": {},
     "output_type": "execute_result"
    }
   ],
   "source": [
    "word_vectors.most_similar(positive=['woman'], topn=1,)"
   ]
  },
  {
   "cell_type": "markdown",
   "metadata": {},
   "source": [
    "### 3.7.2 Analogias"
   ]
  },
  {
   "cell_type": "code",
   "execution_count": 74,
   "metadata": {},
   "outputs": [
    {
     "data": {
      "text/plain": [
       "[('prince', 0.13659892976284027)]"
      ]
     },
     "execution_count": 74,
     "metadata": {},
     "output_type": "execute_result"
    }
   ],
   "source": [
    "word_vectors.most_similar(positive=['king', 'pretty'], negative=['strong'], topn=1)"
   ]
  },
  {
   "cell_type": "code",
   "execution_count": 69,
   "metadata": {},
   "outputs": [
    {
     "data": {
      "text/plain": [
       "[('princess', 0.22944176197052002)]"
      ]
     },
     "execution_count": 69,
     "metadata": {},
     "output_type": "execute_result"
    }
   ],
   "source": [
    "word_vectors.most_similar(positive=['king', 'woman'], negative=['man'], topn=1)"
   ]
  },
  {
   "cell_type": "markdown",
   "metadata": {},
   "source": [
    "### 3.7.3 Odd-One-Out\n",
    "\n",
    "Exclui a palavra  que está fora do contexto, ou a palavra mais distante do contexto geral.\n"
   ]
  },
  {
   "cell_type": "code",
   "execution_count": 64,
   "metadata": {},
   "outputs": [
    {
     "data": {
      "text/plain": [
       "'king'"
      ]
     },
     "execution_count": 64,
     "metadata": {},
     "output_type": "execute_result"
    }
   ],
   "source": [
    "word_vectors.doesnt_match(['king', 'queen', 'girl'])"
   ]
  },
  {
   "cell_type": "code",
   "execution_count": 65,
   "metadata": {},
   "outputs": [
    {
     "data": {
      "text/plain": [
       "'princess'"
      ]
     },
     "execution_count": 65,
     "metadata": {},
     "output_type": "execute_result"
    }
   ],
   "source": [
    "word_vectors.doesnt_match(['prince', 'princess', 'king'])"
   ]
  },
  {
   "cell_type": "code",
   "execution_count": 66,
   "metadata": {},
   "outputs": [
    {
     "data": {
      "text/plain": [
       "'king'"
      ]
     },
     "execution_count": 66,
     "metadata": {},
     "output_type": "execute_result"
    }
   ],
   "source": [
    "word_vectors.doesnt_match(['king', 'queen', 'woman'])"
   ]
  },
  {
   "cell_type": "code",
   "execution_count": 67,
   "metadata": {},
   "outputs": [
    {
     "data": {
      "text/plain": [
       "'king'"
      ]
     },
     "execution_count": 67,
     "metadata": {},
     "output_type": "execute_result"
    }
   ],
   "source": [
    "word_vectors.doesnt_match(['king', 'prince', 'strong'])"
   ]
  }
 ],
 "metadata": {
  "kernelspec": {
   "display_name": "Python 3",
   "language": "python",
   "name": "python3"
  },
  "language_info": {
   "codemirror_mode": {
    "name": "ipython",
    "version": 3
   },
   "file_extension": ".py",
   "mimetype": "text/x-python",
   "name": "python",
   "nbconvert_exporter": "python",
   "pygments_lexer": "ipython3",
   "version": "3.6.5"
  }
 },
 "nbformat": 4,
 "nbformat_minor": 2
}
