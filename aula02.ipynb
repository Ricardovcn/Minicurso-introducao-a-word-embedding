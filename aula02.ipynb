{
 "cells": [
  {
   "cell_type": "markdown",
   "metadata": {},
   "source": [
    "# Instituto Federal do Sudeste de Minas Gerais, Campus Barbacena\n",
    "\n",
    "# Minicurso: Introdução a word embeddings\n",
    "\n"
   ]
  },
  {
   "cell_type": "markdown",
   "metadata": {},
   "source": [
    "## 1. Word2vec - Mais exemplos\n"
   ]
  },
  {
   "cell_type": "markdown",
   "metadata": {},
   "source": [
    "### 1.1. Game of Thrones\n",
    "\n",
    "Alguns resultados de um treinamento onde utilizzei como dataset os 3 primeiros livros de Game of Thrones."
   ]
  },
  {
   "cell_type": "markdown",
   "metadata": {},
   "source": [
    "#### 1.1.1. Similaridade"
   ]
  },
  {
   "cell_type": "markdown",
   "metadata": {},
   "source": [
    "A similaridade entre robb e stark é muito maior do que a similaridade entre tyrion e  stark, o que faz sentido visto que Robb é da família Stark enquanto Tyrion é um Lannister.\n",
    "![](img/got1.png)"
   ]
  },
  {
   "cell_type": "markdown",
   "metadata": {},
   "source": [
    "Exemplo de similaridade com palavras mais comuns.\n",
    "![](img/got3.png)"
   ]
  },
  {
   "cell_type": "markdown",
   "metadata": {},
   "source": [
    "As 10 palavras mais similares relacionadas aos sobrenomes Targaryen e Lannister.\n",
    "![](img/got4.png)"
   ]
  },
  {
   "cell_type": "markdown",
   "metadata": {},
   "source": [
    "### 1.1.2. Odd-One-Out"
   ]
  },
  {
   "cell_type": "markdown",
   "metadata": {},
   "source": [
    "Odd-One-Out aplicado a personagens dos Livros. É interessante como o modelo consegue isolar personagens pertencentes a famílias diferentes.\n",
    "\n",
    "![](img/got2.png)"
   ]
  },
  {
   "cell_type": "markdown",
   "metadata": {},
   "source": [
    "### 1.2. Os Simpsons\n",
    "\n",
    "Mais exemplos de resultados com o treinamento do wor2vec, dessa vez aplicado a um dataset com dados do desenho \"Os Simpsons\".\n",
    "\n",
    "Fonte: https://www.kaggle.com/pierremegret/gensim-word2vec-tutorial"
   ]
  },
  {
   "cell_type": "markdown",
   "metadata": {},
   "source": [
    "### 1.2.1. Similaridade"
   ]
  },
  {
   "cell_type": "markdown",
   "metadata": {},
   "source": [
    "As 10 palavras mais similares a homer.\n",
    "![](img/smp1.png)"
   ]
  },
  {
   "cell_type": "markdown",
   "metadata": {},
   "source": [
    "As 10 palavras mais similares à bart.\n",
    "![](img/smp2.png)"
   ]
  },
  {
   "cell_type": "markdown",
   "metadata": {},
   "source": [
    "### 1.2.2. Odd-One-Out"
   ]
  },
  {
   "cell_type": "markdown",
   "metadata": {},
   "source": [
    "Mais exemplos de Odd-One-Out isolando com sucesso personagens fora do contexto.\n",
    "![](img/smp3.png)\n",
    "![](img/smp4.png)\n",
    "![](img/smp5.png)"
   ]
  },
  {
   "cell_type": "markdown",
   "metadata": {},
   "source": [
    "### 1.1.3. Analogias"
   ]
  },
  {
   "cell_type": "markdown",
   "metadata": {},
   "source": [
    "woman está para marge como homer está para...\n",
    "![](img/smp6.png)\n",
    "woman está para man como bart está para...\n",
    "![](img/smp8.png)"
   ]
  },
  {
   "cell_type": "markdown",
   "metadata": {},
   "source": [
    "## 2. Treinando seu Modelo\n",
    "\n",
    "Hora de por em prática o que foi visto e treinar seu pŕoprio modelo.\n"
   ]
  },
  {
   "cell_type": "markdown",
   "metadata": {},
   "source": [
    "### 2.1. Criando o Corpus"
   ]
  },
  {
   "cell_type": "code",
   "execution_count": 1,
   "metadata": {},
   "outputs": [],
   "source": [
    "import numpy as np\n",
    "import pandas as pd\n",
    "from unidecode import unidecode\n",
    "import nltk\n",
    "import os\n",
    "import re\n",
    "from gensim.models import Word2Vec, KeyedVectors\n",
    "from string import punctuation\n",
    "#Pode ser alterado de acordo com a banda ou parcela do dataset escolhida. Existem musicas em diferentes linguas no dataset.\n",
    "stopwords = nltk.corpus.stopwords.words('english')\n",
    "#stopwords = nltk.corpus.stopwords.words('portuguese')\n",
    "from nltk.stem import SnowballStemmer"
   ]
  },
  {
   "cell_type": "code",
   "execution_count": 2,
   "metadata": {},
   "outputs": [],
   "source": [
    "pontuacao = list(punctuation)\n",
    "# Função pra remover pontuação, stopwords e numeros de textos, pois essas são informações irrelevantes \n",
    "pontuacao.append('...')\n",
    "pontuacao.append('\\\"')\n",
    "pontuacao.append('\\'')\n",
    "pontuacao.append('``')\n",
    "pontuacao.append('`')\n",
    "pontuacao.append('\\n')\n",
    "pontuacao.append('\\t')\n",
    "pontuacao.append('\\’')\n",
    "\n",
    "def processa(txt):\n",
    "    for p in pontuacao:\n",
    "        txt = str(txt).replace(p, ' ')\n",
    "    return ' '.join([t for t in txt.lower().split() \n",
    "                     if (len(t)>2) \n",
    "                     if not re.search('^\\d', t) \n",
    "                     and not re.search('.*\\d$', t) \n",
    "                     and (t not in stopwords)])"
   ]
  },
  {
   "cell_type": "code",
   "execution_count": 8,
   "metadata": {},
   "outputs": [],
   "source": [
    "# Lendo os datasets\n",
    "df1 = pd.read_csv('./music/lyrics1.csv')\n",
    "df2 = pd.read_csv('./music/lyrics2.csv')\n",
    "df3 = pd.read_csv('./music/lyrics3.csv')\n",
    "df4 = pd.read_csv('./music/lyrics4.csv')\n",
    "df5 = pd.read_csv('./music/lyrics5.csv')\n",
    "df6 = pd.read_csv('./music/lyrics6.csv')\n",
    "df7 = pd.read_csv('./music/lyrics7.csv')\n",
    "df8 = pd.read_csv('./music/lyrics8.csv')\n",
    "df9 = pd.read_csv('./music/lyrics9.csv')"
   ]
  },
  {
   "cell_type": "code",
   "execution_count": 9,
   "metadata": {},
   "outputs": [
    {
     "data": {
      "text/html": [
       "<div>\n",
       "<style scoped>\n",
       "    .dataframe tbody tr th:only-of-type {\n",
       "        vertical-align: middle;\n",
       "    }\n",
       "\n",
       "    .dataframe tbody tr th {\n",
       "        vertical-align: top;\n",
       "    }\n",
       "\n",
       "    .dataframe thead th {\n",
       "        text-align: right;\n",
       "    }\n",
       "</style>\n",
       "<table border=\"1\" class=\"dataframe\">\n",
       "  <thead>\n",
       "    <tr style=\"text-align: right;\">\n",
       "      <th></th>\n",
       "      <th>Unnamed: 0</th>\n",
       "      <th>Band</th>\n",
       "      <th>Lyrics</th>\n",
       "      <th>Song</th>\n",
       "    </tr>\n",
       "  </thead>\n",
       "  <tbody>\n",
       "    <tr>\n",
       "      <th>0</th>\n",
       "      <td>0</td>\n",
       "      <td>Elijah Blake</td>\n",
       "      <td>No, no\\r\\nI ain't ever trapped out the bando\\r...</td>\n",
       "      <td>Everyday</td>\n",
       "    </tr>\n",
       "    <tr>\n",
       "      <th>1</th>\n",
       "      <td>1</td>\n",
       "      <td>Elijah Blake</td>\n",
       "      <td>The drinks go down and smoke goes up, I feel m...</td>\n",
       "      <td>Live Till We Die</td>\n",
       "    </tr>\n",
       "    <tr>\n",
       "      <th>2</th>\n",
       "      <td>2</td>\n",
       "      <td>Elijah Blake</td>\n",
       "      <td>She don't live on planet Earth no more\\r\\nShe ...</td>\n",
       "      <td>The Otherside</td>\n",
       "    </tr>\n",
       "    <tr>\n",
       "      <th>3</th>\n",
       "      <td>3</td>\n",
       "      <td>Elijah Blake</td>\n",
       "      <td>Trippin' off that Grigio, mobbin', lights low\\...</td>\n",
       "      <td>Pinot</td>\n",
       "    </tr>\n",
       "    <tr>\n",
       "      <th>4</th>\n",
       "      <td>4</td>\n",
       "      <td>Elijah Blake</td>\n",
       "      <td>I see a midnight panther, so gallant and so br...</td>\n",
       "      <td>Shadows &amp; Diamonds</td>\n",
       "    </tr>\n",
       "  </tbody>\n",
       "</table>\n",
       "</div>"
      ],
      "text/plain": [
       "   Unnamed: 0          Band  \\\n",
       "0           0  Elijah Blake   \n",
       "1           1  Elijah Blake   \n",
       "2           2  Elijah Blake   \n",
       "3           3  Elijah Blake   \n",
       "4           4  Elijah Blake   \n",
       "\n",
       "                                              Lyrics                Song  \n",
       "0  No, no\\r\\nI ain't ever trapped out the bando\\r...            Everyday  \n",
       "1  The drinks go down and smoke goes up, I feel m...    Live Till We Die  \n",
       "2  She don't live on planet Earth no more\\r\\nShe ...       The Otherside  \n",
       "3  Trippin' off that Grigio, mobbin', lights low\\...               Pinot  \n",
       "4  I see a midnight panther, so gallant and so br...  Shadows & Diamonds  "
      ]
     },
     "execution_count": 9,
     "metadata": {},
     "output_type": "execute_result"
    }
   ],
   "source": [
    "# Concatenando os 2 datasets\n",
    "df =  pd.concat([df1, df2, df3, df4, df5, df6, df7, df8, df9])\n",
    "df.head()"
   ]
  },
  {
   "cell_type": "code",
   "execution_count": 10,
   "metadata": {},
   "outputs": [
    {
     "data": {
      "text/plain": [
       "(516174, 4)"
      ]
     },
     "execution_count": 10,
     "metadata": {},
     "output_type": "execute_result"
    }
   ],
   "source": [
    "# 516174 musicas disponíveis no dataset\n",
    "df.shape"
   ]
  },
  {
   "cell_type": "code",
   "execution_count": 11,
   "metadata": {},
   "outputs": [
    {
     "data": {
      "text/plain": [
       "42627"
      ]
     },
     "execution_count": 11,
     "metadata": {},
     "output_type": "execute_result"
    }
   ],
   "source": [
    "# 42627 Cantores/Bandas diferentes no dataset\n",
    "len(df['Band'].unique())"
   ]
  },
  {
   "cell_type": "code",
   "execution_count": 12,
   "metadata": {},
   "outputs": [],
   "source": [
    "# Escolha uma ou mais bandas para treinar seu modelo\n",
    "minhas_musicas = df[df['Band']=='Imagine Dragons']"
   ]
  },
  {
   "cell_type": "code",
   "execution_count": 13,
   "metadata": {},
   "outputs": [
    {
     "data": {
      "text/html": [
       "<div>\n",
       "<style scoped>\n",
       "    .dataframe tbody tr th:only-of-type {\n",
       "        vertical-align: middle;\n",
       "    }\n",
       "\n",
       "    .dataframe tbody tr th {\n",
       "        vertical-align: top;\n",
       "    }\n",
       "\n",
       "    .dataframe thead th {\n",
       "        text-align: right;\n",
       "    }\n",
       "</style>\n",
       "<table border=\"1\" class=\"dataframe\">\n",
       "  <thead>\n",
       "    <tr style=\"text-align: right;\">\n",
       "      <th></th>\n",
       "      <th>Unnamed: 0</th>\n",
       "      <th>Band</th>\n",
       "      <th>Lyrics</th>\n",
       "      <th>Song</th>\n",
       "    </tr>\n",
       "  </thead>\n",
       "  <tbody>\n",
       "    <tr>\n",
       "      <th>41280</th>\n",
       "      <td>211280</td>\n",
       "      <td>Imagine Dragons</td>\n",
       "      <td>Ever since I could remember\\r\\nEverything insi...</td>\n",
       "      <td>Monster</td>\n",
       "    </tr>\n",
       "    <tr>\n",
       "      <th>41281</th>\n",
       "      <td>211281</td>\n",
       "      <td>Imagine Dragons</td>\n",
       "      <td>When the days are cold\\nAnd the cards all fold...</td>\n",
       "      <td>Demons</td>\n",
       "    </tr>\n",
       "    <tr>\n",
       "      <th>41282</th>\n",
       "      <td>211282</td>\n",
       "      <td>Imagine Dragons</td>\n",
       "      <td>So this is what you meant\\r\\nWhen you said tha...</td>\n",
       "      <td>It's Time</td>\n",
       "    </tr>\n",
       "    <tr>\n",
       "      <th>41283</th>\n",
       "      <td>211283</td>\n",
       "      <td>Imagine Dragons</td>\n",
       "      <td>I took a walk on a Saturday night,\\nFog in the...</td>\n",
       "      <td>My Fault</td>\n",
       "    </tr>\n",
       "    <tr>\n",
       "      <th>41284</th>\n",
       "      <td>211284</td>\n",
       "      <td>Imagine Dragons</td>\n",
       "      <td>If you love somebody\\r\\nBetter tell them why t...</td>\n",
       "      <td>On Top of the World</td>\n",
       "    </tr>\n",
       "  </tbody>\n",
       "</table>\n",
       "</div>"
      ],
      "text/plain": [
       "       Unnamed: 0             Band  \\\n",
       "41280      211280  Imagine Dragons   \n",
       "41281      211281  Imagine Dragons   \n",
       "41282      211282  Imagine Dragons   \n",
       "41283      211283  Imagine Dragons   \n",
       "41284      211284  Imagine Dragons   \n",
       "\n",
       "                                                  Lyrics                 Song  \n",
       "41280  Ever since I could remember\\r\\nEverything insi...              Monster  \n",
       "41281  When the days are cold\\nAnd the cards all fold...               Demons  \n",
       "41282  So this is what you meant\\r\\nWhen you said tha...            It's Time  \n",
       "41283  I took a walk on a Saturday night,\\nFog in the...             My Fault  \n",
       "41284  If you love somebody\\r\\nBetter tell them why t...  On Top of the World  "
      ]
     },
     "execution_count": 13,
     "metadata": {},
     "output_type": "execute_result"
    }
   ],
   "source": [
    "# As 5 primeiras musicas da parcela escolhida\n",
    "minhas_musicas.head()"
   ]
  },
  {
   "cell_type": "code",
   "execution_count": 14,
   "metadata": {},
   "outputs": [
    {
     "data": {
      "text/plain": [
       "(60, 4)"
      ]
     },
     "execution_count": 14,
     "metadata": {},
     "output_type": "execute_result"
    }
   ],
   "source": [
    "# 60 musicad da banda escolhida. Escolha uma bonda com um numero consideravel de musicas\n",
    "minhas_musicas.shape"
   ]
  },
  {
   "cell_type": "code",
   "execution_count": 15,
   "metadata": {},
   "outputs": [],
   "source": [
    "# Criando o corpus. Vale ressaltar que o corpus é uma lista de listas.\n",
    "corpus = []"
   ]
  },
  {
   "cell_type": "code",
   "execution_count": 16,
   "metadata": {},
   "outputs": [],
   "source": [
    "# Percorre linha or linha do dataset\n",
    "for i in minhas_musicas.iterrows():\n",
    "    corpus.append(processa(unidecode(str(i[1]['Lyrics']))).split(' '))"
   ]
  },
  {
   "cell_type": "code",
   "execution_count": 17,
   "metadata": {},
   "outputs": [],
   "source": [
    "# Conferindo o corpus\n",
    "corpus;"
   ]
  },
  {
   "cell_type": "markdown",
   "metadata": {},
   "source": [
    "### 2.2. Treinando o Modelo\n",
    "\n",
    "Experimente parâmetros diferentes, outras combinação de técnicas de pré-processamento, tente aprimorar os resultados. A dimensionalidade e o tamanho da janela são os que vão causa uma mudança mais expressiva. O motivo disso é testar, para perceber como os datasets reagem a cada configuração, e chegar a sua pŕopria conclusão de qual combinação de parâmetros e técnicas de pré-proessamento se adequa melhor à parela do daset escolhida, ou até mesmo a todo o dataset.\n",
    "\n",
    "\n",
    "Outro experimento interessante é usar a mesma configuração pra treinar modelos com bandas diferentes e ver como palavras iguais são definidas em contextos diferentes para cada banda."
   ]
  },
  {
   "cell_type": "code",
   "execution_count": 31,
   "metadata": {},
   "outputs": [],
   "source": [
    "# Treinando o modelo \n",
    "from gensim.models import Word2Vec\n",
    "model = Word2Vec(corpus, size=300, window=5, min_count=3, sg=0, iter=50)"
   ]
  },
  {
   "cell_type": "code",
   "execution_count": 32,
   "metadata": {},
   "outputs": [
    {
     "data": {
      "text/plain": [
       "(240699, 353800)"
      ]
     },
     "execution_count": 32,
     "metadata": {},
     "output_type": "execute_result"
    }
   ],
   "source": [
    "model.train(corpus, total_examples=len(corpus), epochs=50)"
   ]
  },
  {
   "cell_type": "code",
   "execution_count": 33,
   "metadata": {},
   "outputs": [
    {
     "data": {
      "text/plain": [
       "[('real', 0.7515951991081238),\n",
       " ('dangerous', 0.7092431783676147),\n",
       " ('guess', 0.6717456579208374),\n",
       " ('trust', 0.6697754263877869),\n",
       " ('way', 0.661875307559967),\n",
       " ('feels', 0.6504908800125122),\n",
       " ('rings', 0.6215311288833618),\n",
       " ('something', 0.5959182977676392),\n",
       " ('headlights', 0.5866005420684814),\n",
       " ('try', 0.5499647855758667)]"
      ]
     },
     "execution_count": 33,
     "metadata": {},
     "output_type": "execute_result"
    }
   ],
   "source": [
    "model.wv.most_similar(['love', 'lost'], topn=10)"
   ]
  },
  {
   "cell_type": "code",
   "execution_count": 34,
   "metadata": {},
   "outputs": [
    {
     "data": {
      "text/plain": [
       "[('takes', 0.9619840383529663),\n",
       " ('whatever', 0.9386924505233765),\n",
       " ('chains', 0.8262341022491455),\n",
       " ('veins', 0.7961289882659912),\n",
       " ('love', 0.6949001550674438),\n",
       " ('leaves', 0.6902086734771729),\n",
       " ('feels', 0.676640510559082),\n",
       " ('rip', 0.6728334426879883),\n",
       " ('cause', 0.6165151596069336),\n",
       " ('break', 0.6075426340103149)]"
      ]
     },
     "execution_count": 34,
     "metadata": {},
     "output_type": "execute_result"
    }
   ],
   "source": [
    "model.wv.most_similar(['adrenaline'], topn=10)"
   ]
  },
  {
   "cell_type": "markdown",
   "metadata": {},
   "source": [
    "### 2.3. Words Movers Distance\n",
    "\n",
    "Metodo utilizado para comparar setenças ou documentos."
   ]
  },
  {
   "cell_type": "code",
   "execution_count": 35,
   "metadata": {},
   "outputs": [],
   "source": [
    "\n",
    "#distancias.sort()\n",
    "#distanciasdistancias= []\n",
    "#l1 = corpus[0];\n",
    "#    \n",
    "#model.init_sims(replace=True)  # Normalizes the vectors in the word2vec class.\n",
    "#for i in corpus:\n",
    "#    distancias.append(model.wmdistance(l1, i)) \n",
    "#distancias.sort()\n",
    "#distancias"
   ]
  },
  {
   "cell_type": "code",
   "execution_count": null,
   "metadata": {},
   "outputs": [],
   "source": []
  }
 ],
 "metadata": {
  "kernelspec": {
   "display_name": "Python 3",
   "language": "python",
   "name": "python3"
  },
  "language_info": {
   "codemirror_mode": {
    "name": "ipython",
    "version": 3
   },
   "file_extension": ".py",
   "mimetype": "text/x-python",
   "name": "python",
   "nbconvert_exporter": "python",
   "pygments_lexer": "ipython3",
   "version": "3.6.5"
  }
 },
 "nbformat": 4,
 "nbformat_minor": 2
}
