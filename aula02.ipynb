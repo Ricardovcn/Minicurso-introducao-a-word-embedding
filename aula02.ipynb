{
 "cells": [
  {
   "cell_type": "markdown",
   "metadata": {},
   "source": [
    "# Instituto Federal do Sudeste de Minas Gerais, Campus Barbacena\n",
    "\n",
    "# Minicurso: Introdução a word embeddings\n",
    "\n"
   ]
  },
  {
   "cell_type": "markdown",
   "metadata": {},
   "source": [
    "## 1. Word2vec - Mais exemplos\n"
   ]
  },
  {
   "cell_type": "markdown",
   "metadata": {},
   "source": [
    "### 1.1. Game of Thrones\n",
    "\n",
    "Alguns resultados de um treinamento onde utilizzei como dataset os 3 primeiros livros de Game of Thrones."
   ]
  },
  {
   "cell_type": "markdown",
   "metadata": {},
   "source": [
    "#### 1.1.1. Similaridade"
   ]
  },
  {
   "cell_type": "markdown",
   "metadata": {},
   "source": [
    "A similaridade entre robb e stark é muito maior do que a similaridade entre tyrion e  stark, o que faz sentido visto que Robb é da família Stark enquanto Tyrion é um Lannister.\n",
    "![](img/got1.png)"
   ]
  },
  {
   "cell_type": "markdown",
   "metadata": {},
   "source": [
    "Exemplo de similaridade com palavras mais comuns.\n",
    "![](img/got3.png)"
   ]
  },
  {
   "cell_type": "markdown",
   "metadata": {},
   "source": [
    "As 10 palavras mais similares relacionadas aos sobrenomes Targaryen e Lannister.\n",
    "![](img/got4.png)"
   ]
  },
  {
   "cell_type": "markdown",
   "metadata": {},
   "source": [
    "### 1.1.2. Odd-One-Out"
   ]
  },
  {
   "cell_type": "markdown",
   "metadata": {},
   "source": [
    "Odd-One-Out aplicado a personagens dos Livros. É interessante como o modelo consegue isolar personagens pertencentes a famílias diferentes.\n",
    "\n",
    "![](img/got2.png)"
   ]
  },
  {
   "cell_type": "markdown",
   "metadata": {},
   "source": [
    "### 1.2. Os Simpsons\n",
    "\n",
    "Mais exemplos de resultados com o treinamento do wor2vec, dessa vez aplicado a um dataset com dados do desenho \"Os Simpsons\".\n",
    "\n",
    "Fonte: https://www.kaggle.com/pierremegret/gensim-word2vec-tutorial"
   ]
  },
  {
   "cell_type": "markdown",
   "metadata": {},
   "source": [
    "### 1.2.1. Similaridade"
   ]
  },
  {
   "cell_type": "markdown",
   "metadata": {},
   "source": [
    "As 10 palavras mais similares a homer.\n",
    "![](img/smp1.png)"
   ]
  },
  {
   "cell_type": "markdown",
   "metadata": {},
   "source": [
    "As 10 palavras mais similares à bart.\n",
    "![](img/smp2.png)"
   ]
  },
  {
   "cell_type": "markdown",
   "metadata": {},
   "source": [
    "### 1.2.2. Odd-One-Out"
   ]
  },
  {
   "cell_type": "markdown",
   "metadata": {},
   "source": [
    "Mais exemplos de Odd-One-Out isolando com sucesso personagens fora do contexto.\n",
    "![](img/smp3.png)\n",
    "![](img/smp4.png)\n",
    "![](img/smp5.png)"
   ]
  },
  {
   "cell_type": "markdown",
   "metadata": {},
   "source": [
    "### 1.2.3. Analogias"
   ]
  },
  {
   "cell_type": "markdown",
   "metadata": {},
   "source": [
    "woman está para marge como homer está para...\n",
    "![](img/smp6.png)\n",
    "woman está para man como bart está para...\n",
    "![](img/smp8.png)"
   ]
  },
  {
   "cell_type": "markdown",
   "metadata": {},
   "source": [
    "### 1.3. Wikipedia em Português\n",
    "\n",
    "Utilizando um modelo treinado em Português com os dados da wikipédia.\n",
    "Esse modelo foi treinado por um coreano, que utilizou a base da wikipedia em portugues. Essa base contem cerca de 1,3 GB e resultdou em um vocabulário de aproximadamente 50.000 palavras. A dimensionalidade escolhida por ele foi a mesma usada pelo modelo do google, 300.\n",
    "\n",
    "\n",
    "\n",
    "Vamos baixar esse modelo e fazer alguns testes, ele pode ser encontrado no seguinte link:  https://github.com/KyuByong/wordvectors"
   ]
  },
  {
   "cell_type": "code",
   "execution_count": 39,
   "metadata": {},
   "outputs": [],
   "source": [
    "#Carregando o modelo\n",
    "model_wiki = Word2Vec.load('./pt/pt.bin')"
   ]
  },
  {
   "cell_type": "code",
   "execution_count": 48,
   "metadata": {},
   "outputs": [
    {
     "data": {
      "text/plain": [
       "50246"
      ]
     },
     "execution_count": 48,
     "metadata": {},
     "output_type": "execute_result"
    }
   ],
   "source": [
    "#vocabulario de 50246 palavras.\n",
    "len(model_wiki.wv.vocab)"
   ]
  },
  {
   "cell_type": "markdown",
   "metadata": {},
   "source": [
    "### 1.3.1. Similadirade entre palavras"
   ]
  },
  {
   "cell_type": "code",
   "execution_count": 43,
   "metadata": {},
   "outputs": [
    {
     "data": {
      "text/plain": [
       "0.5698206"
      ]
     },
     "execution_count": 43,
     "metadata": {},
     "output_type": "execute_result"
    }
   ],
   "source": [
    "model_wiki.wv.similarity('rei','rainha')"
   ]
  },
  {
   "cell_type": "code",
   "execution_count": 44,
   "metadata": {},
   "outputs": [
    {
     "data": {
      "text/plain": [
       "0.5398298"
      ]
     },
     "execution_count": 44,
     "metadata": {},
     "output_type": "execute_result"
    }
   ],
   "source": [
    "model_wiki.wv.similarity('rei','principe')"
   ]
  },
  {
   "cell_type": "code",
   "execution_count": 45,
   "metadata": {},
   "outputs": [
    {
     "data": {
      "text/plain": [
       "0.17778099"
      ]
     },
     "execution_count": 45,
     "metadata": {},
     "output_type": "execute_result"
    }
   ],
   "source": [
    "model_wiki.wv.similarity('rei','cachorro')"
   ]
  },
  {
   "cell_type": "markdown",
   "metadata": {},
   "source": [
    "### 1.3.2. Os mais similares"
   ]
  },
  {
   "cell_type": "code",
   "execution_count": 50,
   "metadata": {},
   "outputs": [
    {
     "data": {
      "text/plain": [
       "[('monarca', 0.7494288086891174),\n",
       " ('imperador', 0.7331966161727905),\n",
       " ('soberano', 0.7012052536010742),\n",
       " ('sultão', 0.6885693073272705),\n",
       " ('príncipe', 0.6859150528907776),\n",
       " ('faraó', 0.6376820206642151),\n",
       " ('governante', 0.6339693665504456),\n",
       " ('califa', 0.6284059286117554),\n",
       " ('trono', 0.62713623046875),\n",
       " ('condestável', 0.626724362373352)]"
      ]
     },
     "execution_count": 50,
     "metadata": {},
     "output_type": "execute_result"
    }
   ],
   "source": [
    "model_wiki.wv.most_similar(['rei'])"
   ]
  },
  {
   "cell_type": "code",
   "execution_count": 51,
   "metadata": {},
   "outputs": [
    {
     "data": {
      "text/plain": [
       "[('princesa', 0.7254871129989624),\n",
       " ('rainha-mãe', 0.715790867805481),\n",
       " ('imperatriz', 0.6730843782424927),\n",
       " ('infanta', 0.6339465379714966),\n",
       " ('czarina', 0.613501787185669),\n",
       " ('grã-duquesa', 0.5965134501457214),\n",
       " ('duquesa', 0.5820716619491577),\n",
       " ('sibila', 0.5797038674354553),\n",
       " ('arquiduquesa', 0.571153461933136),\n",
       " ('rei', 0.5698206424713135)]"
      ]
     },
     "execution_count": 51,
     "metadata": {},
     "output_type": "execute_result"
    }
   ],
   "source": [
    "model_wiki.wv.most_similar(['rainha'])"
   ]
  },
  {
   "cell_type": "code",
   "execution_count": 53,
   "metadata": {},
   "outputs": [
    {
     "data": {
      "text/plain": [
       "[('gato', 0.7345885038375854),\n",
       " ('cão', 0.7251510620117188),\n",
       " ('macaco', 0.712258517742157),\n",
       " ('hamster', 0.6716378927230835),\n",
       " ('burro', 0.6668468713760376),\n",
       " ('gorila', 0.6535876989364624),\n",
       " ('rato', 0.6522855758666992),\n",
       " ('sapo', 0.6512554883956909),\n",
       " ('urso', 0.6504798531532288),\n",
       " ('pássaro', 0.649040937423706)]"
      ]
     },
     "execution_count": 53,
     "metadata": {},
     "output_type": "execute_result"
    }
   ],
   "source": [
    "model_wiki.wv.most_similar(['cachorro'])"
   ]
  },
  {
   "cell_type": "code",
   "execution_count": 54,
   "metadata": {},
   "outputs": [
    {
     "data": {
      "text/plain": [
       "[('entendimento', 0.6994889974594116),\n",
       " ('pensamento', 0.6006251573562622),\n",
       " ('discernimento', 0.5953051447868347),\n",
       " ('aprendizado', 0.5870758295059204),\n",
       " ('conhecimentos', 0.5852985382080078),\n",
       " ('interesse', 0.5579639673233032),\n",
       " ('fundamento', 0.5576693415641785),\n",
       " ('significado', 0.5541521310806274),\n",
       " ('intelecto', 0.5460195541381836),\n",
       " ('desconhecimento', 0.5352515578269958)]"
      ]
     },
     "execution_count": 54,
     "metadata": {},
     "output_type": "execute_result"
    }
   ],
   "source": [
    "model_wiki.wv.most_similar(['conhecimento'])"
   ]
  },
  {
   "cell_type": "code",
   "execution_count": 55,
   "metadata": {},
   "outputs": [
    {
     "data": {
      "text/plain": [
       "[('ódio', 0.6318349242210388),\n",
       " ('encanto', 0.6172047853469849),\n",
       " ('ciúme', 0.5946954488754272),\n",
       " ('afeto', 0.5838000774383545),\n",
       " ('beijo', 0.5753592252731323),\n",
       " ('ternura', 0.5546466708183289),\n",
       " ('prazer', 0.553915798664093),\n",
       " ('arrependimento', 0.5529347658157349),\n",
       " ('paixão', 0.5403603315353394),\n",
       " ('compaixão', 0.5381144285202026)]"
      ]
     },
     "execution_count": 55,
     "metadata": {},
     "output_type": "execute_result"
    }
   ],
   "source": [
    "model_wiki.wv.most_similar(['amor'])"
   ]
  },
  {
   "cell_type": "markdown",
   "metadata": {},
   "source": [
    "### 1.3.3. Analogias"
   ]
  },
  {
   "cell_type": "code",
   "execution_count": 75,
   "metadata": {},
   "outputs": [
    {
     "data": {
      "text/plain": [
       "[('princesa', 0.5795178413391113)]"
      ]
     },
     "execution_count": 75,
     "metadata": {},
     "output_type": "execute_result"
    }
   ],
   "source": [
    "model_wiki.wv.most_similar(positive=['principe', 'mulher'], negative=['homem'], topn=1)"
   ]
  },
  {
   "cell_type": "code",
   "execution_count": 76,
   "metadata": {},
   "outputs": [
    {
     "data": {
      "text/plain": [
       "[('estrela', 0.5891047120094299)]"
      ]
     },
     "execution_count": 76,
     "metadata": {},
     "output_type": "execute_result"
    }
   ],
   "source": [
    "model_wiki.wv.most_similar(positive=['nuvem', 'estrelas'], negative=['nuvens'], topn=1)"
   ]
  },
  {
   "cell_type": "markdown",
   "metadata": {},
   "source": [
    "### 1.3.2. Odd-One-Out"
   ]
  },
  {
   "cell_type": "code",
   "execution_count": 67,
   "metadata": {},
   "outputs": [
    {
     "data": {
      "text/plain": [
       "'alface'"
      ]
     },
     "execution_count": 67,
     "metadata": {},
     "output_type": "execute_result"
    }
   ],
   "source": [
    "model_wiki.wv.doesnt_match(['principe', 'princesa', 'monarca', 'alface'])"
   ]
  },
  {
   "cell_type": "code",
   "execution_count": 77,
   "metadata": {},
   "outputs": [
    {
     "data": {
      "text/plain": [
       "'gato'"
      ]
     },
     "execution_count": 77,
     "metadata": {},
     "output_type": "execute_result"
    }
   ],
   "source": [
    "model_wiki.wv.doesnt_match(['futebol', 'volei', 'natacao', 'gato'])"
   ]
  },
  {
   "cell_type": "markdown",
   "metadata": {},
   "source": [
    "## 2. Treinando seu Modelo\n",
    "\n",
    "Hora de por em prática o que foi visto e treinar seu pŕoprio modelo.\n"
   ]
  },
  {
   "cell_type": "markdown",
   "metadata": {},
   "source": [
    "### 2.1. Criando o Corpus"
   ]
  },
  {
   "cell_type": "code",
   "execution_count": 5,
   "metadata": {},
   "outputs": [],
   "source": [
    "import numpy as np\n",
    "import pandas as pd\n",
    "from unidecode import unidecode\n",
    "import nltk\n",
    "import os\n",
    "import re\n",
    "from gensim.models import Word2Vec, KeyedVectors\n",
    "from string import punctuation\n",
    "#Pode ser alterado de acordo com a banda ou parcela do dataset escolhida. Existem musicas em diferentes linguas no dataset.\n",
    "stopwords = nltk.corpus.stopwords.words('english')\n",
    "#stopwords = nltk.corpus.stopwords.words('portuguese')\n",
    "from nltk.stem import SnowballStemmer"
   ]
  },
  {
   "cell_type": "code",
   "execution_count": 6,
   "metadata": {},
   "outputs": [],
   "source": [
    "pontuacao = list(punctuation)\n",
    "# Função pra remover pontuação, stopwords e numeros de textos, pois essas são informações irrelevantes \n",
    "pontuacao.append('...')\n",
    "pontuacao.append('\\\"')\n",
    "pontuacao.append('\\'')\n",
    "pontuacao.append('``')\n",
    "pontuacao.append('`')\n",
    "pontuacao.append('\\n')\n",
    "pontuacao.append('\\t')\n",
    "pontuacao.append('\\’')\n",
    "\n",
    "def processa(txt):\n",
    "    for p in pontuacao:\n",
    "        txt = str(txt).replace(p, ' ')\n",
    "    return ' '.join([t for t in txt.lower().split() \n",
    "                     if (len(t)>2) \n",
    "                     if not re.search('^\\d', t) \n",
    "                     and not re.search('.*\\d$', t) \n",
    "                     and (t not in stopwords)])"
   ]
  },
  {
   "cell_type": "code",
   "execution_count": 7,
   "metadata": {},
   "outputs": [],
   "source": [
    "# Lendo os datasets\n",
    "df1 = pd.read_csv('./music/lyrics1.csv')\n",
    "df2 = pd.read_csv('./music/lyrics2.csv')\n",
    "df3 = pd.read_csv('./music/lyrics3.csv')\n",
    "df4 = pd.read_csv('./music/lyrics4.csv')\n",
    "df5 = pd.read_csv('./music/lyrics5.csv')\n",
    "df6 = pd.read_csv('./music/lyrics6.csv')\n",
    "df7 = pd.read_csv('./music/lyrics7.csv')\n",
    "df8 = pd.read_csv('./music/lyrics8.csv')\n",
    "df9 = pd.read_csv('./music/lyrics9.csv')"
   ]
  },
  {
   "cell_type": "code",
   "execution_count": 8,
   "metadata": {},
   "outputs": [
    {
     "data": {
      "text/html": [
       "<div>\n",
       "<style scoped>\n",
       "    .dataframe tbody tr th:only-of-type {\n",
       "        vertical-align: middle;\n",
       "    }\n",
       "\n",
       "    .dataframe tbody tr th {\n",
       "        vertical-align: top;\n",
       "    }\n",
       "\n",
       "    .dataframe thead th {\n",
       "        text-align: right;\n",
       "    }\n",
       "</style>\n",
       "<table border=\"1\" class=\"dataframe\">\n",
       "  <thead>\n",
       "    <tr style=\"text-align: right;\">\n",
       "      <th></th>\n",
       "      <th>Unnamed: 0</th>\n",
       "      <th>Band</th>\n",
       "      <th>Lyrics</th>\n",
       "      <th>Song</th>\n",
       "    </tr>\n",
       "  </thead>\n",
       "  <tbody>\n",
       "    <tr>\n",
       "      <th>0</th>\n",
       "      <td>0</td>\n",
       "      <td>Elijah Blake</td>\n",
       "      <td>No, no\\r\\nI ain't ever trapped out the bando\\r...</td>\n",
       "      <td>Everyday</td>\n",
       "    </tr>\n",
       "    <tr>\n",
       "      <th>1</th>\n",
       "      <td>1</td>\n",
       "      <td>Elijah Blake</td>\n",
       "      <td>The drinks go down and smoke goes up, I feel m...</td>\n",
       "      <td>Live Till We Die</td>\n",
       "    </tr>\n",
       "    <tr>\n",
       "      <th>2</th>\n",
       "      <td>2</td>\n",
       "      <td>Elijah Blake</td>\n",
       "      <td>She don't live on planet Earth no more\\r\\nShe ...</td>\n",
       "      <td>The Otherside</td>\n",
       "    </tr>\n",
       "    <tr>\n",
       "      <th>3</th>\n",
       "      <td>3</td>\n",
       "      <td>Elijah Blake</td>\n",
       "      <td>Trippin' off that Grigio, mobbin', lights low\\...</td>\n",
       "      <td>Pinot</td>\n",
       "    </tr>\n",
       "    <tr>\n",
       "      <th>4</th>\n",
       "      <td>4</td>\n",
       "      <td>Elijah Blake</td>\n",
       "      <td>I see a midnight panther, so gallant and so br...</td>\n",
       "      <td>Shadows &amp; Diamonds</td>\n",
       "    </tr>\n",
       "  </tbody>\n",
       "</table>\n",
       "</div>"
      ],
      "text/plain": [
       "   Unnamed: 0          Band  \\\n",
       "0           0  Elijah Blake   \n",
       "1           1  Elijah Blake   \n",
       "2           2  Elijah Blake   \n",
       "3           3  Elijah Blake   \n",
       "4           4  Elijah Blake   \n",
       "\n",
       "                                              Lyrics                Song  \n",
       "0  No, no\\r\\nI ain't ever trapped out the bando\\r...            Everyday  \n",
       "1  The drinks go down and smoke goes up, I feel m...    Live Till We Die  \n",
       "2  She don't live on planet Earth no more\\r\\nShe ...       The Otherside  \n",
       "3  Trippin' off that Grigio, mobbin', lights low\\...               Pinot  \n",
       "4  I see a midnight panther, so gallant and so br...  Shadows & Diamonds  "
      ]
     },
     "execution_count": 8,
     "metadata": {},
     "output_type": "execute_result"
    }
   ],
   "source": [
    "# Concatenando os 2 datasets\n",
    "df =  pd.concat([df1, df2, df3, df4, df5, df6, df7, df8, df9])\n",
    "df.head()"
   ]
  },
  {
   "cell_type": "code",
   "execution_count": 9,
   "metadata": {},
   "outputs": [
    {
     "data": {
      "text/plain": [
       "(516174, 4)"
      ]
     },
     "execution_count": 9,
     "metadata": {},
     "output_type": "execute_result"
    }
   ],
   "source": [
    "# 516174 musicas disponíveis no dataset\n",
    "df.shape"
   ]
  },
  {
   "cell_type": "code",
   "execution_count": 10,
   "metadata": {},
   "outputs": [
    {
     "data": {
      "text/plain": [
       "42627"
      ]
     },
     "execution_count": 10,
     "metadata": {},
     "output_type": "execute_result"
    }
   ],
   "source": [
    "# 42627 Cantores/Bandas diferentes no dataset\n",
    "len(df['Band'].unique())"
   ]
  },
  {
   "cell_type": "code",
   "execution_count": 11,
   "metadata": {},
   "outputs": [],
   "source": [
    "# Escolha uma ou mais bandas para treinar seu modelo\n",
    "minhas_musicas = df[df['Band']=='Imagine Dragons']"
   ]
  },
  {
   "cell_type": "code",
   "execution_count": 12,
   "metadata": {},
   "outputs": [
    {
     "data": {
      "text/html": [
       "<div>\n",
       "<style scoped>\n",
       "    .dataframe tbody tr th:only-of-type {\n",
       "        vertical-align: middle;\n",
       "    }\n",
       "\n",
       "    .dataframe tbody tr th {\n",
       "        vertical-align: top;\n",
       "    }\n",
       "\n",
       "    .dataframe thead th {\n",
       "        text-align: right;\n",
       "    }\n",
       "</style>\n",
       "<table border=\"1\" class=\"dataframe\">\n",
       "  <thead>\n",
       "    <tr style=\"text-align: right;\">\n",
       "      <th></th>\n",
       "      <th>Unnamed: 0</th>\n",
       "      <th>Band</th>\n",
       "      <th>Lyrics</th>\n",
       "      <th>Song</th>\n",
       "    </tr>\n",
       "  </thead>\n",
       "  <tbody>\n",
       "    <tr>\n",
       "      <th>41280</th>\n",
       "      <td>211280</td>\n",
       "      <td>Imagine Dragons</td>\n",
       "      <td>Ever since I could remember\\r\\nEverything insi...</td>\n",
       "      <td>Monster</td>\n",
       "    </tr>\n",
       "    <tr>\n",
       "      <th>41281</th>\n",
       "      <td>211281</td>\n",
       "      <td>Imagine Dragons</td>\n",
       "      <td>When the days are cold\\nAnd the cards all fold...</td>\n",
       "      <td>Demons</td>\n",
       "    </tr>\n",
       "    <tr>\n",
       "      <th>41282</th>\n",
       "      <td>211282</td>\n",
       "      <td>Imagine Dragons</td>\n",
       "      <td>So this is what you meant\\r\\nWhen you said tha...</td>\n",
       "      <td>It's Time</td>\n",
       "    </tr>\n",
       "    <tr>\n",
       "      <th>41283</th>\n",
       "      <td>211283</td>\n",
       "      <td>Imagine Dragons</td>\n",
       "      <td>I took a walk on a Saturday night,\\nFog in the...</td>\n",
       "      <td>My Fault</td>\n",
       "    </tr>\n",
       "    <tr>\n",
       "      <th>41284</th>\n",
       "      <td>211284</td>\n",
       "      <td>Imagine Dragons</td>\n",
       "      <td>If you love somebody\\r\\nBetter tell them why t...</td>\n",
       "      <td>On Top of the World</td>\n",
       "    </tr>\n",
       "  </tbody>\n",
       "</table>\n",
       "</div>"
      ],
      "text/plain": [
       "       Unnamed: 0             Band  \\\n",
       "41280      211280  Imagine Dragons   \n",
       "41281      211281  Imagine Dragons   \n",
       "41282      211282  Imagine Dragons   \n",
       "41283      211283  Imagine Dragons   \n",
       "41284      211284  Imagine Dragons   \n",
       "\n",
       "                                                  Lyrics                 Song  \n",
       "41280  Ever since I could remember\\r\\nEverything insi...              Monster  \n",
       "41281  When the days are cold\\nAnd the cards all fold...               Demons  \n",
       "41282  So this is what you meant\\r\\nWhen you said tha...            It's Time  \n",
       "41283  I took a walk on a Saturday night,\\nFog in the...             My Fault  \n",
       "41284  If you love somebody\\r\\nBetter tell them why t...  On Top of the World  "
      ]
     },
     "execution_count": 12,
     "metadata": {},
     "output_type": "execute_result"
    }
   ],
   "source": [
    "# As 5 primeiras musicas da parcela escolhida\n",
    "minhas_musicas.head()"
   ]
  },
  {
   "cell_type": "code",
   "execution_count": 13,
   "metadata": {},
   "outputs": [
    {
     "data": {
      "text/plain": [
       "(60, 4)"
      ]
     },
     "execution_count": 13,
     "metadata": {},
     "output_type": "execute_result"
    }
   ],
   "source": [
    "# 60 musicad da banda escolhida. Escolha uma bonda com um numero consideravel de musicas\n",
    "minhas_musicas.shape"
   ]
  },
  {
   "cell_type": "code",
   "execution_count": 14,
   "metadata": {},
   "outputs": [],
   "source": [
    "# Criando o corpus. Vale ressaltar que o corpus é uma lista de listas.\n",
    "corpus = []"
   ]
  },
  {
   "cell_type": "code",
   "execution_count": 15,
   "metadata": {},
   "outputs": [],
   "source": [
    "# Percorre linha or linha do dataset\n",
    "for i in minhas_musicas.iterrows():\n",
    "    corpus.append(processa(unidecode(str(i[1]['Lyrics']))).split(' '))"
   ]
  },
  {
   "cell_type": "code",
   "execution_count": 16,
   "metadata": {},
   "outputs": [],
   "source": [
    "# Conferindo o corpus\n",
    "corpus;"
   ]
  },
  {
   "cell_type": "markdown",
   "metadata": {},
   "source": [
    "### 2.2. Treinando o Modelo\n",
    "\n",
    "Experimente parâmetros diferentes, outras combinação de técnicas de pré-processamento, tente aprimorar os resultados. A dimensionalidade e o tamanho da janela são os que vão causa uma mudança mais expressiva. O motivo disso é testar, para perceber como os datasets reagem a cada configuração, e chegar a sua pŕopria conclusão de qual combinação de parâmetros e técnicas de pré-proessamento se adequa melhor à parela do daset escolhida, ou até mesmo a todo o dataset.\n",
    "\n",
    "\n",
    "Outro experimento interessante é usar a mesma configuração pra treinar modelos com bandas diferentes e ver como palavras iguais são definidas em contextos diferentes para cada banda."
   ]
  },
  {
   "cell_type": "code",
   "execution_count": 17,
   "metadata": {},
   "outputs": [],
   "source": [
    "# Treinando o modelo \n",
    "from gensim.models import Word2Vec\n",
    "model = Word2Vec(corpus, size=300, window=5, min_count=3, sg=0, iter=50)"
   ]
  },
  {
   "cell_type": "code",
   "execution_count": 18,
   "metadata": {},
   "outputs": [
    {
     "data": {
      "text/plain": [
       "(240699, 353800)"
      ]
     },
     "execution_count": 18,
     "metadata": {},
     "output_type": "execute_result"
    }
   ],
   "source": [
    "model.train(corpus, total_examples=len(corpus), epochs=50)"
   ]
  },
  {
   "cell_type": "code",
   "execution_count": 19,
   "metadata": {},
   "outputs": [
    {
     "data": {
      "text/plain": [
       "[('real', 0.7288336753845215),\n",
       " ('dangerous', 0.7069138884544373),\n",
       " ('way', 0.665067195892334),\n",
       " ('trust', 0.6614406108856201),\n",
       " ('guess', 0.657089352607727),\n",
       " ('feels', 0.6397360563278198),\n",
       " ('rings', 0.595757007598877),\n",
       " ('something', 0.5861997604370117),\n",
       " ('headlights', 0.5847240686416626),\n",
       " ('try', 0.5481896996498108)]"
      ]
     },
     "execution_count": 19,
     "metadata": {},
     "output_type": "execute_result"
    }
   ],
   "source": [
    "model.wv.most_similar(['love', 'lost'], topn=10)"
   ]
  },
  {
   "cell_type": "code",
   "execution_count": 20,
   "metadata": {},
   "outputs": [
    {
     "data": {
      "text/plain": [
       "[('takes', 0.9612326622009277),\n",
       " ('whatever', 0.9375436305999756),\n",
       " ('chains', 0.8245683908462524),\n",
       " ('veins', 0.7950506210327148),\n",
       " ('love', 0.7021576166152954),\n",
       " ('leaves', 0.6828089952468872),\n",
       " ('rip', 0.675251841545105),\n",
       " ('feels', 0.6737320423126221),\n",
       " ('cause', 0.6270672678947449),\n",
       " ('break', 0.6024526953697205)]"
      ]
     },
     "execution_count": 20,
     "metadata": {},
     "output_type": "execute_result"
    }
   ],
   "source": [
    "model.wv.most_similar(['adrenaline'], topn=10)"
   ]
  },
  {
   "cell_type": "markdown",
   "metadata": {},
   "source": [
    "### 2.3 Words Movers Distance\n",
    "\n",
    "Metodo utilizado para comparar setenças ou documentos."
   ]
  },
  {
   "cell_type": "code",
   "execution_count": 78,
   "metadata": {},
   "outputs": [
    {
     "data": {
      "text/plain": [
       "0.9220106665984066"
      ]
     },
     "execution_count": 78,
     "metadata": {},
     "output_type": "execute_result"
    }
   ],
   "source": [
    "import warnings\n",
    "warnings.filterwarnings('ignore')\n",
    "model.init_sims(replace=True) \n",
    "model.wmdistance(corpus[0], corpus[1])"
   ]
  },
  {
   "cell_type": "code",
   "execution_count": 79,
   "metadata": {},
   "outputs": [
    {
     "data": {
      "text/plain": [
       "1.0239031157176919"
      ]
     },
     "execution_count": 79,
     "metadata": {},
     "output_type": "execute_result"
    }
   ],
   "source": [
    "model.wmdistance(corpus[0], corpus[2])"
   ]
  },
  {
   "cell_type": "code",
   "execution_count": 80,
   "metadata": {},
   "outputs": [
    {
     "data": {
      "text/plain": [
       "1.0590478900508051"
      ]
     },
     "execution_count": 80,
     "metadata": {},
     "output_type": "execute_result"
    }
   ],
   "source": [
    "model.wmdistance(corpus[0], corpus[3])"
   ]
  }
 ],
 "metadata": {
  "kernelspec": {
   "display_name": "Python 3",
   "language": "python",
   "name": "python3"
  },
  "language_info": {
   "codemirror_mode": {
    "name": "ipython",
    "version": 3
   },
   "file_extension": ".py",
   "mimetype": "text/x-python",
   "name": "python",
   "nbconvert_exporter": "python",
   "pygments_lexer": "ipython3",
   "version": "3.6.5"
  }
 },
 "nbformat": 4,
 "nbformat_minor": 2
}
